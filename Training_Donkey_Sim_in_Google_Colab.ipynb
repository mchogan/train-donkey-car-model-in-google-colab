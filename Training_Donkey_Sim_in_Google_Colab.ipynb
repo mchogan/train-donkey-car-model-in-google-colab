{
  "nbformat": 4,
  "nbformat_minor": 0,
  "metadata": {
    "accelerator": "GPU",
    "colab": {
      "name": "Training Donkey Sim in Google Colab",
      "provenance": [],
      "collapsed_sections": [],
      "include_colab_link": true
    },
    "kernelspec": {
      "display_name": "Python 3",
      "language": "python",
      "name": "python3"
    },
    "language_info": {
      "codemirror_mode": {
        "name": "ipython",
        "version": 3
      },
      "file_extension": ".py",
      "mimetype": "text/x-python",
      "name": "python",
      "nbconvert_exporter": "python",
      "pygments_lexer": "ipython3",
      "version": "3.7.3"
    }
  },
  "cells": [
    {
      "cell_type": "markdown",
      "metadata": {
        "id": "view-in-github",
        "colab_type": "text"
      },
      "source": [
        "<a href=\"https://colab.research.google.com/github/mchogan/train-donkey-car-model-in-google-colab/blob/main/Training_Donkey_Sim_in_Google_Colab.ipynb\" target=\"_parent\"><img src=\"https://colab.research.google.com/assets/colab-badge.svg\" alt=\"Open In Colab\"/></a>"
      ]
    },
    {
      "cell_type": "markdown",
      "metadata": {
        "id": "BlmQIFSLZDdc"
      },
      "source": [
        "# Donkey Sim Training using Google Colab\n",
        "\n",
        "Train your donkey car model using accelerated GPU for FREE on Google Colab\n",
        "\n",
        "[Training Donkey Car on Google Colab](https://medium.com/@jonathantse/training-donkey-car-on-google-colab-db874ad972f3) explains the concepts demonstrated in this workbook."
      ]
    },
    {
      "cell_type": "markdown",
      "metadata": {
        "id": "qIRYAetJfEok"
      },
      "source": [
        "## Setup Tensorflow\n",
        "\n",
        "Use the same Tensorflow version as on the host computer."
      ]
    },
    {
      "cell_type": "code",
      "metadata": {
        "id": "MPoguHqafVtp",
        "outputId": "48b96b90-1c09-4b6e-f24f-e5e673c5aa9b",
        "colab": {
          "base_uri": "https://localhost:8080/",
          "height": 35
        }
      },
      "source": [
        "!pip install -q -q -q tensorflow-gpu==1.13.1\n",
        "\n",
        "import tensorflow\n",
        "print('Using Tensorflow version {}'.format(tensorflow.__version__))"
      ],
      "execution_count": 16,
      "outputs": [
        {
          "output_type": "stream",
          "text": [
            "Using Tensorflow version 1.13.1\n"
          ],
          "name": "stdout"
        }
      ]
    },
    {
      "cell_type": "markdown",
      "metadata": {
        "id": "arsH-DhLcihq"
      },
      "source": [
        "## Check GPU allocation\n",
        "If \"Found GPU at: / device: GPU: 0\" is displayed, the GPU is ready to use."
      ]
    },
    {
      "cell_type": "code",
      "metadata": {
        "id": "uQgEhuoTcg0N",
        "outputId": "79afbf04-3f7e-43e7-9c37-848f2b6aba34",
        "colab": {
          "base_uri": "https://localhost:8080/",
          "height": 35
        }
      },
      "source": [
        "import tensorflow\n",
        "device_name = tensorflow.test.gpu_device_name()\n",
        "if device_name != '/device:GPU:0' :\n",
        "  print('GPU device not found. Enable GPU in Edit > Notebook settings.')\n",
        "else :\n",
        "  print('Found GPU at: {}'.format(device_name))"
      ],
      "execution_count": 19,
      "outputs": [
        {
          "output_type": "stream",
          "text": [
            "Found GPU at: /device:GPU:0\n"
          ],
          "name": "stdout"
        }
      ]
    },
    {
      "cell_type": "markdown",
      "metadata": {
        "id": "Ba2oPDIrsDFg"
      },
      "source": [
        "## Git Clone the donkey repository"
      ]
    },
    {
      "cell_type": "code",
      "metadata": {
        "id": "oOxd9PFUyNxI",
        "outputId": "700de005-6917-40d2-f147-eccc846088cd",
        "colab": {
          "base_uri": "https://localhost:8080/",
          "height": 90
        }
      },
      "source": [
        "!git clone https://github.com/autorope/donkeycar.git \n",
        "%cd /content/donkeycar\n",
        "\n",
        "!git checkout master"
      ],
      "execution_count": 3,
      "outputs": [
        {
          "output_type": "stream",
          "text": [
            "fatal: destination path 'donkeycar' already exists and is not an empty directory.\n",
            "/content/donkeycar\n",
            "Already on 'master'\n",
            "Your branch is up to date with 'origin/master'.\n"
          ],
          "name": "stdout"
        }
      ]
    },
    {
      "cell_type": "markdown",
      "metadata": {
        "id": "9TkkcF-gsAnx"
      },
      "source": [
        "## Install donkey car"
      ]
    },
    {
      "cell_type": "code",
      "metadata": {
        "id": "jz_PZgrByPDh",
        "outputId": "798e9e87-0f47-4953-c2bb-1ddc3a615611",
        "colab": {
          "base_uri": "https://localhost:8080/",
          "height": 606
        }
      },
      "source": [
        "!pip3 install -e .[pc]"
      ],
      "execution_count": 4,
      "outputs": [
        {
          "output_type": "stream",
          "text": [
            "Obtaining file:///content/donkeycar\n",
            "Requirement already satisfied: numpy in /usr/local/lib/python3.6/dist-packages (from donkeycar==3.1.5) (1.18.5)\n",
            "Requirement already satisfied: pillow in /usr/local/lib/python3.6/dist-packages (from donkeycar==3.1.5) (7.0.0)\n",
            "Requirement already satisfied: docopt in /usr/local/lib/python3.6/dist-packages (from donkeycar==3.1.5) (0.6.2)\n",
            "Requirement already satisfied: tornado in /usr/local/lib/python3.6/dist-packages (from donkeycar==3.1.5) (5.1.1)\n",
            "Requirement already satisfied: requests in /usr/local/lib/python3.6/dist-packages (from donkeycar==3.1.5) (2.23.0)\n",
            "Requirement already satisfied: h5py in /usr/local/lib/python3.6/dist-packages (from donkeycar==3.1.5) (2.10.0)\n",
            "Requirement already satisfied: moviepy in /usr/local/lib/python3.6/dist-packages (from donkeycar==3.1.5) (0.2.3.5)\n",
            "Requirement already satisfied: pandas in /usr/local/lib/python3.6/dist-packages (from donkeycar==3.1.5) (1.1.2)\n",
            "Requirement already satisfied: PrettyTable in /usr/local/lib/python3.6/dist-packages (from donkeycar==3.1.5) (0.7.2)\n",
            "Requirement already satisfied: paho-mqtt in /usr/local/lib/python3.6/dist-packages (from donkeycar==3.1.5) (1.5.1)\n",
            "Requirement already satisfied: simple_pid in /usr/local/lib/python3.6/dist-packages (from donkeycar==3.1.5) (0.2.4)\n",
            "Requirement already satisfied: matplotlib in /usr/local/lib/python3.6/dist-packages (from donkeycar==3.1.5) (3.2.2)\n",
            "Requirement already satisfied: certifi>=2017.4.17 in /usr/local/lib/python3.6/dist-packages (from requests->donkeycar==3.1.5) (2020.6.20)\n",
            "Requirement already satisfied: idna<3,>=2.5 in /usr/local/lib/python3.6/dist-packages (from requests->donkeycar==3.1.5) (2.10)\n",
            "Requirement already satisfied: urllib3!=1.25.0,!=1.25.1,<1.26,>=1.21.1 in /usr/local/lib/python3.6/dist-packages (from requests->donkeycar==3.1.5) (1.24.3)\n",
            "Requirement already satisfied: chardet<4,>=3.0.2 in /usr/local/lib/python3.6/dist-packages (from requests->donkeycar==3.1.5) (3.0.4)\n",
            "Requirement already satisfied: six in /usr/local/lib/python3.6/dist-packages (from h5py->donkeycar==3.1.5) (1.15.0)\n",
            "Requirement already satisfied: tqdm<5.0,>=4.11.2 in /usr/local/lib/python3.6/dist-packages (from moviepy->donkeycar==3.1.5) (4.41.1)\n",
            "Requirement already satisfied: imageio<3.0,>=2.1.2 in /usr/local/lib/python3.6/dist-packages (from moviepy->donkeycar==3.1.5) (2.4.1)\n",
            "Requirement already satisfied: decorator<5.0,>=4.0.2 in /usr/local/lib/python3.6/dist-packages (from moviepy->donkeycar==3.1.5) (4.4.2)\n",
            "Requirement already satisfied: pytz>=2017.2 in /usr/local/lib/python3.6/dist-packages (from pandas->donkeycar==3.1.5) (2018.9)\n",
            "Requirement already satisfied: python-dateutil>=2.7.3 in /usr/local/lib/python3.6/dist-packages (from pandas->donkeycar==3.1.5) (2.8.1)\n",
            "Requirement already satisfied: cycler>=0.10 in /usr/local/lib/python3.6/dist-packages (from matplotlib->donkeycar==3.1.5) (0.10.0)\n",
            "Requirement already satisfied: pyparsing!=2.0.4,!=2.1.2,!=2.1.6,>=2.0.1 in /usr/local/lib/python3.6/dist-packages (from matplotlib->donkeycar==3.1.5) (2.4.7)\n",
            "Requirement already satisfied: kiwisolver>=1.0.1 in /usr/local/lib/python3.6/dist-packages (from matplotlib->donkeycar==3.1.5) (1.2.0)\n",
            "Installing collected packages: donkeycar\n",
            "  Found existing installation: donkeycar 3.1.5\n",
            "    Can't uninstall 'donkeycar'. No files were found to uninstall.\n",
            "  Running setup.py develop for donkeycar\n",
            "Successfully installed donkeycar\n"
          ],
          "name": "stdout"
        }
      ]
    },
    {
      "cell_type": "markdown",
      "metadata": {
        "id": "syCctLq2r4Wk"
      },
      "source": [
        "## Create Project"
      ]
    },
    {
      "cell_type": "code",
      "metadata": {
        "id": "1xjJBSITyXy2",
        "outputId": "0ddb90eb-1f7b-4b12-e17c-6d33b0571b5e",
        "colab": {
          "base_uri": "https://localhost:8080/",
          "height": 237
        }
      },
      "source": [
        "!donkey createcar --path /content/mycar"
      ],
      "execution_count": 5,
      "outputs": [
        {
          "output_type": "stream",
          "text": [
            "using donkey v3.1.5 ...\n",
            "Creating car folder: /content/mycar\n",
            "making dir  /content/mycar\n",
            "Creating data & model folders.\n",
            "making dir  /content/mycar/models\n",
            "making dir  /content/mycar/data\n",
            "making dir  /content/mycar/logs\n",
            "Car app already exists. Delete it and rerun createcar to replace.\n",
            "Car config already exists. Delete it and rerun createcar to replace.\n",
            "Train already exists. Delete it and rerun createcar to replace.\n",
            "Calibrate already exists. Delete it and rerun createcar to replace.\n",
            "Donkey setup complete.\n"
          ],
          "name": "stdout"
        }
      ]
    },
    {
      "cell_type": "markdown",
      "metadata": {
        "id": "W47gmXA0O4Lo"
      },
      "source": [
        "## Load the sample data\n",
        "\n",
        "[Sample data](http://docs.donkeycar.com/guide/simulator/#sample-driving-data) is provided by the Donkey Sim tutorial."
      ]
    },
    {
      "cell_type": "markdown",
      "metadata": {
        "id": "jhAWAN-E8VI7"
      },
      "source": [
        "Import the Google Drive python package. See [Simplest way to Open files from Google Drive in Google Colab](https://medium.com/ml-book/simplest-way-to-open-files-from-google-drive-in-google-colab-fae14810674)."
      ]
    },
    {
      "cell_type": "code",
      "metadata": {
        "id": "Bgp_wtENw_4n",
        "outputId": "6b91bea6-5e83-4395-bc60-781c839e1525",
        "colab": {
          "base_uri": "https://localhost:8080/",
          "height": 55
        }
      },
      "source": [
        "from google.colab import drive\n",
        "drive.mount('/content/drive')"
      ],
      "execution_count": 6,
      "outputs": [
        {
          "output_type": "stream",
          "text": [
            "Drive already mounted at /content/drive; to attempt to forcibly remount, call drive.mount(\"/content/drive\", force_remount=True).\n"
          ],
          "name": "stdout"
        }
      ]
    },
    {
      "cell_type": "markdown",
      "metadata": {
        "id": "IfSDpXj9x16v"
      },
      "source": [
        "Copy the sample data from Google Drive into Colab."
      ]
    },
    {
      "cell_type": "code",
      "metadata": {
        "id": "BIzWTrV-xwkJ",
        "outputId": "cb511e85-cff3-4123-e821-cea6029c078b",
        "colab": {
          "base_uri": "https://localhost:8080/",
          "height": 35
        }
      },
      "source": [
        "%%bash\n",
        "echo \"Copy sim_data.tar to this workspace.\"\n",
        "rm -r /content/mycar/data/\n",
        "cp /content/drive/\"My Drive\"/Colab/sim_data.tar /content/mycar/"
      ],
      "execution_count": 7,
      "outputs": [
        {
          "output_type": "stream",
          "text": [
            "Copy sim_data.tar to this workspace.\n"
          ],
          "name": "stdout"
        }
      ]
    },
    {
      "cell_type": "markdown",
      "metadata": {
        "id": "QtwcEli6yFrw"
      },
      "source": [
        "Untar the sample data."
      ]
    },
    {
      "cell_type": "code",
      "metadata": {
        "id": "urhFWBkUyGf0"
      },
      "source": [
        "%%bash\n",
        "cd /content/mycar\n",
        "tar -xf sim_data.tar"
      ],
      "execution_count": 8,
      "outputs": []
    },
    {
      "cell_type": "markdown",
      "metadata": {
        "id": "eyPsgV5KyFkg"
      },
      "source": [
        "Check whether the data is there"
      ]
    },
    {
      "cell_type": "code",
      "metadata": {
        "id": "KsItvBTkzWcH",
        "outputId": "571afa29-ffbe-4dae-f36c-55d61219fa10",
        "colab": {
          "base_uri": "https://localhost:8080/",
          "height": 54
        }
      },
      "source": [
        "%%bash\n",
        "ls /content/mycar/data"
      ],
      "execution_count": 9,
      "outputs": [
        {
          "output_type": "stream",
          "text": [
            "gen_track_user_drv_right_lane\n",
            "gen_track_usr_drv_recovery\n"
          ],
          "name": "stdout"
        }
      ]
    },
    {
      "cell_type": "markdown",
      "metadata": {
        "id": "T3Ya8qEUAfOv"
      },
      "source": [
        "## Train your model"
      ]
    },
    {
      "cell_type": "code",
      "metadata": {
        "id": "edH3xO_AVWXu",
        "outputId": "1edfdf19-1444-4fe2-bbbd-d59bda2513f1",
        "colab": {
          "base_uri": "https://localhost:8080/",
          "height": 1000
        }
      },
      "source": [
        "!python /content/mycar/manage.py train --type linear --model /content/mycar/models/mypilot.h5"
      ],
      "execution_count": 10,
      "outputs": [
        {
          "output_type": "stream",
          "text": [
            "using donkey v3.1.5 ...\n",
            "loading config file: /content/mycar/config.py\n",
            "myconfig myconfig.py\n",
            "loading personal config over-rides from myconfig.py\n",
            "\n",
            "config loaded\n",
            "/usr/local/lib/python3.6/dist-packages/tensorflow/python/framework/dtypes.py:526: FutureWarning: Passing (type, 1) or '1type' as a synonym of type is deprecated; in a future version of numpy, it will be understood as (type, (1,)) / '(1,)type'.\n",
            "  _np_qint8 = np.dtype([(\"qint8\", np.int8, 1)])\n",
            "/usr/local/lib/python3.6/dist-packages/tensorflow/python/framework/dtypes.py:527: FutureWarning: Passing (type, 1) or '1type' as a synonym of type is deprecated; in a future version of numpy, it will be understood as (type, (1,)) / '(1,)type'.\n",
            "  _np_quint8 = np.dtype([(\"quint8\", np.uint8, 1)])\n",
            "/usr/local/lib/python3.6/dist-packages/tensorflow/python/framework/dtypes.py:528: FutureWarning: Passing (type, 1) or '1type' as a synonym of type is deprecated; in a future version of numpy, it will be understood as (type, (1,)) / '(1,)type'.\n",
            "  _np_qint16 = np.dtype([(\"qint16\", np.int16, 1)])\n",
            "/usr/local/lib/python3.6/dist-packages/tensorflow/python/framework/dtypes.py:529: FutureWarning: Passing (type, 1) or '1type' as a synonym of type is deprecated; in a future version of numpy, it will be understood as (type, (1,)) / '(1,)type'.\n",
            "  _np_quint16 = np.dtype([(\"quint16\", np.uint16, 1)])\n",
            "/usr/local/lib/python3.6/dist-packages/tensorflow/python/framework/dtypes.py:530: FutureWarning: Passing (type, 1) or '1type' as a synonym of type is deprecated; in a future version of numpy, it will be understood as (type, (1,)) / '(1,)type'.\n",
            "  _np_qint32 = np.dtype([(\"qint32\", np.int32, 1)])\n",
            "/usr/local/lib/python3.6/dist-packages/tensorflow/python/framework/dtypes.py:535: FutureWarning: Passing (type, 1) or '1type' as a synonym of type is deprecated; in a future version of numpy, it will be understood as (type, (1,)) / '(1,)type'.\n",
            "  np_resource = np.dtype([(\"resource\", np.ubyte, 1)])\n",
            "2020-10-02 08:24:19.899957: I tensorflow/core/platform/cpu_feature_guard.cc:141] Your CPU supports instructions that this TensorFlow binary was not compiled to use: AVX2 FMA\n",
            "2020-10-02 08:24:19.996132: I tensorflow/stream_executor/cuda/cuda_gpu_executor.cc:998] successful NUMA node read from SysFS had negative value (-1), but there must be at least one NUMA node, so returning NUMA node zero\n",
            "2020-10-02 08:24:19.997202: I tensorflow/compiler/xla/service/service.cc:150] XLA service 0x205d4a0 executing computations on platform CUDA. Devices:\n",
            "2020-10-02 08:24:19.997250: I tensorflow/compiler/xla/service/service.cc:158]   StreamExecutor device (0): Tesla T4, Compute Capability 7.5\n",
            "2020-10-02 08:24:19.998930: I tensorflow/core/platform/profile_utils/cpu_utils.cc:94] CPU Frequency: 2200000000 Hz\n",
            "2020-10-02 08:24:19.999197: I tensorflow/compiler/xla/service/service.cc:150] XLA service 0x205d340 executing computations on platform Host. Devices:\n",
            "2020-10-02 08:24:19.999226: I tensorflow/compiler/xla/service/service.cc:158]   StreamExecutor device (0): <undefined>, <undefined>\n",
            "2020-10-02 08:24:19.999353: I tensorflow/core/common_runtime/gpu/gpu_device.cc:1433] Found device 0 with properties: \n",
            "name: Tesla T4 major: 7 minor: 5 memoryClockRate(GHz): 1.59\n",
            "pciBusID: 0000:00:04.0\n",
            "totalMemory: 14.73GiB freeMemory: 14.52GiB\n",
            "2020-10-02 08:24:19.999377: I tensorflow/core/common_runtime/gpu/gpu_device.cc:1512] Adding visible gpu devices: 0\n",
            "2020-10-02 08:24:20.000372: I tensorflow/core/common_runtime/gpu/gpu_device.cc:984] Device interconnect StreamExecutor with strength 1 edge matrix:\n",
            "2020-10-02 08:24:20.000400: I tensorflow/core/common_runtime/gpu/gpu_device.cc:990]      0 \n",
            "2020-10-02 08:24:20.000436: I tensorflow/core/common_runtime/gpu/gpu_device.cc:1003] 0:   N \n",
            "2020-10-02 08:24:20.000515: I tensorflow/core/common_runtime/gpu/gpu_device.cc:1115] Created TensorFlow device (/job:localhost/replica:0/task:0/device:GPU:0 with 14125 MB memory) -> physical GPU (device: 0, name: Tesla T4, pci bus id: 0000:00:04.0, compute capability: 7.5)\n",
            "\"get_model_by_type\" model Type is: linear\n",
            "WARNING:tensorflow:From /usr/local/lib/python3.6/dist-packages/tensorflow/python/ops/resource_variable_ops.py:435: colocate_with (from tensorflow.python.framework.ops) is deprecated and will be removed in a future version.\n",
            "Instructions for updating:\n",
            "Colocations handled automatically by placer.\n",
            "WARNING:tensorflow:From /usr/local/lib/python3.6/dist-packages/tensorflow/python/keras/layers/core.py:143: calling dropout (from tensorflow.python.ops.nn_ops) with keep_prob is deprecated and will be removed in a future version.\n",
            "Instructions for updating:\n",
            "Please use `rate` instead of `keep_prob`. Rate should be set to `rate = 1 - keep_prob`.\n",
            "WARNING:tensorflow:From /usr/local/lib/python3.6/dist-packages/tensorflow/python/keras/utils/losses_utils.py:170: to_float (from tensorflow.python.ops.math_ops) is deprecated and will be removed in a future version.\n",
            "Instructions for updating:\n",
            "Use tf.cast instead.\n",
            "training with model type <class 'donkeycar.parts.keras.KerasLinear'>\n",
            "__________________________________________________________________________________________________\n",
            "Layer (type)                    Output Shape         Param #     Connected to                     \n",
            "==================================================================================================\n",
            "img_in (InputLayer)             (None, 120, 160, 3)  0                                            \n",
            "__________________________________________________________________________________________________\n",
            "conv2d_1 (Conv2D)               (None, 58, 78, 24)   1824        img_in[0][0]                     \n",
            "__________________________________________________________________________________________________\n",
            "dropout (Dropout)               (None, 58, 78, 24)   0           conv2d_1[0][0]                   \n",
            "__________________________________________________________________________________________________\n",
            "conv2d_2 (Conv2D)               (None, 27, 37, 32)   19232       dropout[0][0]                    \n",
            "__________________________________________________________________________________________________\n",
            "dropout_1 (Dropout)             (None, 27, 37, 32)   0           conv2d_2[0][0]                   \n",
            "__________________________________________________________________________________________________\n",
            "conv2d_3 (Conv2D)               (None, 12, 17, 64)   51264       dropout_1[0][0]                  \n",
            "__________________________________________________________________________________________________\n",
            "dropout_2 (Dropout)             (None, 12, 17, 64)   0           conv2d_3[0][0]                   \n",
            "__________________________________________________________________________________________________\n",
            "conv2d_4 (Conv2D)               (None, 10, 15, 64)   36928       dropout_2[0][0]                  \n",
            "__________________________________________________________________________________________________\n",
            "dropout_3 (Dropout)             (None, 10, 15, 64)   0           conv2d_4[0][0]                   \n",
            "__________________________________________________________________________________________________\n",
            "conv2d_5 (Conv2D)               (None, 8, 13, 64)    36928       dropout_3[0][0]                  \n",
            "__________________________________________________________________________________________________\n",
            "dropout_4 (Dropout)             (None, 8, 13, 64)    0           conv2d_5[0][0]                   \n",
            "__________________________________________________________________________________________________\n",
            "flattened (Flatten)             (None, 6656)         0           dropout_4[0][0]                  \n",
            "__________________________________________________________________________________________________\n",
            "dense (Dense)                   (None, 100)          665700      flattened[0][0]                  \n",
            "__________________________________________________________________________________________________\n",
            "dropout_5 (Dropout)             (None, 100)          0           dense[0][0]                      \n",
            "__________________________________________________________________________________________________\n",
            "dense_1 (Dense)                 (None, 50)           5050        dropout_5[0][0]                  \n",
            "__________________________________________________________________________________________________\n",
            "dropout_6 (Dropout)             (None, 50)           0           dense_1[0][0]                    \n",
            "__________________________________________________________________________________________________\n",
            "n_outputs0 (Dense)              (None, 1)            51          dropout_6[0][0]                  \n",
            "__________________________________________________________________________________________________\n",
            "n_outputs1 (Dense)              (None, 1)            51          dropout_6[0][0]                  \n",
            "==================================================================================================\n",
            "Total params: 817,028\n",
            "Trainable params: 817,028\n",
            "Non-trainable params: 0\n",
            "__________________________________________________________________________________________________\n",
            "None\n",
            "found 0 pickles writing json records and images in tub /content/mycar/data/gen_track_user_drv_right_lane\n",
            "found 0 pickles writing json records and images in tub /content/mycar/data/gen_track_usr_drv_recovery\n",
            "/content/mycar/data/gen_track_user_drv_right_lane\n",
            "/content/mycar/data/gen_track_usr_drv_recovery\n",
            "collating 2629 records ...\n",
            "train: 2103, val: 526\n",
            "total records: 2629\n",
            "steps_per_epoch 16\n",
            "WARNING:tensorflow:From /usr/local/lib/python3.6/dist-packages/tensorflow/python/ops/math_ops.py:3066: to_int32 (from tensorflow.python.ops.math_ops) is deprecated and will be removed in a future version.\n",
            "Instructions for updating:\n",
            "Use tf.cast instead.\n",
            "Epoch 1/100\n",
            "2020-10-02 08:24:24.198658: I tensorflow/stream_executor/dso_loader.cc:152] successfully opened CUDA library libcublas.so.10.0 locally\n",
            "4/4 [==============================] - 0s 122ms/step - loss: 0.1659 - n_outputs0_loss: 0.1588 - n_outputs1_loss: 0.0071\n",
            "\n",
            "Epoch 00001: val_loss improved from inf to 0.16595, saving model to /content/mycar/models/mypilot.h5\n",
            "16/16 [==============================] - 5s 327ms/step - loss: 0.2299 - n_outputs0_loss: 0.1828 - n_outputs1_loss: 0.0471 - val_loss: 0.1659 - val_n_outputs0_loss: 0.1588 - val_n_outputs1_loss: 0.0071\n",
            "Epoch 2/100\n",
            "4/4 [==============================] - 0s 23ms/step - loss: 0.1614 - n_outputs0_loss: 0.1549 - n_outputs1_loss: 0.0065\n",
            "\n",
            "Epoch 00002: val_loss improved from 0.16595 to 0.16139, saving model to /content/mycar/models/mypilot.h5\n",
            "16/16 [==============================] - 1s 56ms/step - loss: 0.1705 - n_outputs0_loss: 0.1581 - n_outputs1_loss: 0.0125 - val_loss: 0.1614 - val_n_outputs0_loss: 0.1549 - val_n_outputs1_loss: 0.0065\n",
            "Epoch 3/100\n",
            "4/4 [==============================] - 0s 25ms/step - loss: 0.1220 - n_outputs0_loss: 0.1162 - n_outputs1_loss: 0.0058\n",
            "\n",
            "Epoch 00003: val_loss improved from 0.16139 to 0.12200, saving model to /content/mycar/models/mypilot.h5\n",
            "16/16 [==============================] - 1s 57ms/step - loss: 0.1487 - n_outputs0_loss: 0.1403 - n_outputs1_loss: 0.0084 - val_loss: 0.1220 - val_n_outputs0_loss: 0.1162 - val_n_outputs1_loss: 0.0058\n",
            "Epoch 4/100\n",
            "4/4 [==============================] - 0s 23ms/step - loss: 0.0645 - n_outputs0_loss: 0.0582 - n_outputs1_loss: 0.0063\n",
            "\n",
            "Epoch 00004: val_loss improved from 0.12200 to 0.06455, saving model to /content/mycar/models/mypilot.h5\n",
            "16/16 [==============================] - 1s 58ms/step - loss: 0.0873 - n_outputs0_loss: 0.0765 - n_outputs1_loss: 0.0108 - val_loss: 0.0645 - val_n_outputs0_loss: 0.0582 - val_n_outputs1_loss: 0.0063\n",
            "Epoch 5/100\n",
            "4/4 [==============================] - 0s 24ms/step - loss: 0.0371 - n_outputs0_loss: 0.0318 - n_outputs1_loss: 0.0053\n",
            "\n",
            "Epoch 00005: val_loss improved from 0.06455 to 0.03711, saving model to /content/mycar/models/mypilot.h5\n",
            "16/16 [==============================] - 1s 58ms/step - loss: 0.0548 - n_outputs0_loss: 0.0446 - n_outputs1_loss: 0.0103 - val_loss: 0.0371 - val_n_outputs0_loss: 0.0318 - val_n_outputs1_loss: 0.0053\n",
            "Epoch 6/100\n",
            "4/4 [==============================] - 0s 21ms/step - loss: 0.0310 - n_outputs0_loss: 0.0261 - n_outputs1_loss: 0.0049\n",
            "\n",
            "Epoch 00006: val_loss improved from 0.03711 to 0.03101, saving model to /content/mycar/models/mypilot.h5\n",
            "16/16 [==============================] - 1s 57ms/step - loss: 0.0443 - n_outputs0_loss: 0.0359 - n_outputs1_loss: 0.0084 - val_loss: 0.0310 - val_n_outputs0_loss: 0.0261 - val_n_outputs1_loss: 0.0049\n",
            "Epoch 7/100\n",
            "4/4 [==============================] - 0s 24ms/step - loss: 0.0294 - n_outputs0_loss: 0.0240 - n_outputs1_loss: 0.0054\n",
            "\n",
            "Epoch 00007: val_loss improved from 0.03101 to 0.02936, saving model to /content/mycar/models/mypilot.h5\n",
            "16/16 [==============================] - 1s 58ms/step - loss: 0.0403 - n_outputs0_loss: 0.0324 - n_outputs1_loss: 0.0079 - val_loss: 0.0294 - val_n_outputs0_loss: 0.0240 - val_n_outputs1_loss: 0.0054\n",
            "Epoch 8/100\n",
            "4/4 [==============================] - 0s 24ms/step - loss: 0.0280 - n_outputs0_loss: 0.0233 - n_outputs1_loss: 0.0047\n",
            "\n",
            "Epoch 00008: val_loss improved from 0.02936 to 0.02799, saving model to /content/mycar/models/mypilot.h5\n",
            "16/16 [==============================] - 1s 57ms/step - loss: 0.0355 - n_outputs0_loss: 0.0282 - n_outputs1_loss: 0.0072 - val_loss: 0.0280 - val_n_outputs0_loss: 0.0233 - val_n_outputs1_loss: 0.0047\n",
            "Epoch 9/100\n",
            "4/4 [==============================] - 0s 24ms/step - loss: 0.0259 - n_outputs0_loss: 0.0216 - n_outputs1_loss: 0.0042\n",
            "\n",
            "Epoch 00009: val_loss improved from 0.02799 to 0.02586, saving model to /content/mycar/models/mypilot.h5\n",
            "16/16 [==============================] - 1s 57ms/step - loss: 0.0342 - n_outputs0_loss: 0.0276 - n_outputs1_loss: 0.0066 - val_loss: 0.0259 - val_n_outputs0_loss: 0.0216 - val_n_outputs1_loss: 0.0042\n",
            "Epoch 10/100\n",
            "4/4 [==============================] - 0s 26ms/step - loss: 0.0253 - n_outputs0_loss: 0.0215 - n_outputs1_loss: 0.0037\n",
            "\n",
            "Epoch 00010: val_loss improved from 0.02586 to 0.02526, saving model to /content/mycar/models/mypilot.h5\n",
            "16/16 [==============================] - 1s 57ms/step - loss: 0.0320 - n_outputs0_loss: 0.0257 - n_outputs1_loss: 0.0063 - val_loss: 0.0253 - val_n_outputs0_loss: 0.0215 - val_n_outputs1_loss: 0.0037\n",
            "Epoch 11/100\n",
            "4/4 [==============================] - 0s 24ms/step - loss: 0.0225 - n_outputs0_loss: 0.0188 - n_outputs1_loss: 0.0037\n",
            "\n",
            "Epoch 00011: val_loss improved from 0.02526 to 0.02250, saving model to /content/mycar/models/mypilot.h5\n",
            "16/16 [==============================] - 1s 58ms/step - loss: 0.0306 - n_outputs0_loss: 0.0247 - n_outputs1_loss: 0.0059 - val_loss: 0.0225 - val_n_outputs0_loss: 0.0188 - val_n_outputs1_loss: 0.0037\n",
            "Epoch 12/100\n",
            "4/4 [==============================] - 0s 23ms/step - loss: 0.0219 - n_outputs0_loss: 0.0176 - n_outputs1_loss: 0.0043\n",
            "\n",
            "Epoch 00012: val_loss improved from 0.02250 to 0.02188, saving model to /content/mycar/models/mypilot.h5\n",
            "16/16 [==============================] - 1s 57ms/step - loss: 0.0282 - n_outputs0_loss: 0.0224 - n_outputs1_loss: 0.0058 - val_loss: 0.0219 - val_n_outputs0_loss: 0.0176 - val_n_outputs1_loss: 0.0043\n",
            "Epoch 13/100\n",
            "4/4 [==============================] - 0s 24ms/step - loss: 0.0221 - n_outputs0_loss: 0.0182 - n_outputs1_loss: 0.0039\n",
            "\n",
            "Epoch 00013: val_loss did not improve from 0.02188\n",
            "16/16 [==============================] - 1s 53ms/step - loss: 0.0274 - n_outputs0_loss: 0.0220 - n_outputs1_loss: 0.0054 - val_loss: 0.0221 - val_n_outputs0_loss: 0.0182 - val_n_outputs1_loss: 0.0039\n",
            "Epoch 14/100\n",
            "4/4 [==============================] - 0s 25ms/step - loss: 0.0206 - n_outputs0_loss: 0.0171 - n_outputs1_loss: 0.0035\n",
            "\n",
            "Epoch 00014: val_loss improved from 0.02188 to 0.02063, saving model to /content/mycar/models/mypilot.h5\n",
            "16/16 [==============================] - 1s 58ms/step - loss: 0.0265 - n_outputs0_loss: 0.0212 - n_outputs1_loss: 0.0054 - val_loss: 0.0206 - val_n_outputs0_loss: 0.0171 - val_n_outputs1_loss: 0.0035\n",
            "Epoch 15/100\n",
            "4/4 [==============================] - 0s 25ms/step - loss: 0.0196 - n_outputs0_loss: 0.0156 - n_outputs1_loss: 0.0040\n",
            "\n",
            "Epoch 00015: val_loss improved from 0.02063 to 0.01957, saving model to /content/mycar/models/mypilot.h5\n",
            "16/16 [==============================] - 1s 58ms/step - loss: 0.0238 - n_outputs0_loss: 0.0185 - n_outputs1_loss: 0.0054 - val_loss: 0.0196 - val_n_outputs0_loss: 0.0156 - val_n_outputs1_loss: 0.0040\n",
            "Epoch 16/100\n",
            "4/4 [==============================] - 0s 23ms/step - loss: 0.0190 - n_outputs0_loss: 0.0158 - n_outputs1_loss: 0.0033\n",
            "\n",
            "Epoch 00016: val_loss improved from 0.01957 to 0.01904, saving model to /content/mycar/models/mypilot.h5\n",
            "16/16 [==============================] - 1s 57ms/step - loss: 0.0254 - n_outputs0_loss: 0.0201 - n_outputs1_loss: 0.0053 - val_loss: 0.0190 - val_n_outputs0_loss: 0.0158 - val_n_outputs1_loss: 0.0033\n",
            "Epoch 17/100\n",
            "4/4 [==============================] - 0s 24ms/step - loss: 0.0219 - n_outputs0_loss: 0.0188 - n_outputs1_loss: 0.0031\n",
            "\n",
            "Epoch 00017: val_loss did not improve from 0.01904\n",
            "16/16 [==============================] - 1s 53ms/step - loss: 0.0239 - n_outputs0_loss: 0.0191 - n_outputs1_loss: 0.0047 - val_loss: 0.0219 - val_n_outputs0_loss: 0.0188 - val_n_outputs1_loss: 0.0031\n",
            "Epoch 18/100\n",
            "4/4 [==============================] - 0s 27ms/step - loss: 0.0157 - n_outputs0_loss: 0.0120 - n_outputs1_loss: 0.0037\n",
            "\n",
            "Epoch 00018: val_loss improved from 0.01904 to 0.01572, saving model to /content/mycar/models/mypilot.h5\n",
            "16/16 [==============================] - 1s 58ms/step - loss: 0.0235 - n_outputs0_loss: 0.0186 - n_outputs1_loss: 0.0050 - val_loss: 0.0157 - val_n_outputs0_loss: 0.0120 - val_n_outputs1_loss: 0.0037\n",
            "Epoch 19/100\n",
            "4/4 [==============================] - 0s 26ms/step - loss: 0.0180 - n_outputs0_loss: 0.0149 - n_outputs1_loss: 0.0031\n",
            "\n",
            "Epoch 00019: val_loss did not improve from 0.01572\n",
            "16/16 [==============================] - 1s 54ms/step - loss: 0.0219 - n_outputs0_loss: 0.0173 - n_outputs1_loss: 0.0046 - val_loss: 0.0180 - val_n_outputs0_loss: 0.0149 - val_n_outputs1_loss: 0.0031\n",
            "Epoch 20/100\n",
            "4/4 [==============================] - 0s 23ms/step - loss: 0.0138 - n_outputs0_loss: 0.0110 - n_outputs1_loss: 0.0029\n",
            "\n",
            "Epoch 00020: val_loss improved from 0.01572 to 0.01385, saving model to /content/mycar/models/mypilot.h5\n",
            "16/16 [==============================] - 1s 57ms/step - loss: 0.0209 - n_outputs0_loss: 0.0163 - n_outputs1_loss: 0.0045 - val_loss: 0.0138 - val_n_outputs0_loss: 0.0110 - val_n_outputs1_loss: 0.0029\n",
            "Epoch 21/100\n",
            "4/4 [==============================] - 0s 25ms/step - loss: 0.0181 - n_outputs0_loss: 0.0152 - n_outputs1_loss: 0.0029\n",
            "\n",
            "Epoch 00021: val_loss did not improve from 0.01385\n",
            "16/16 [==============================] - 1s 54ms/step - loss: 0.0208 - n_outputs0_loss: 0.0163 - n_outputs1_loss: 0.0045 - val_loss: 0.0181 - val_n_outputs0_loss: 0.0152 - val_n_outputs1_loss: 0.0029\n",
            "Epoch 22/100\n",
            "4/4 [==============================] - 0s 25ms/step - loss: 0.0148 - n_outputs0_loss: 0.0114 - n_outputs1_loss: 0.0033\n",
            "\n",
            "Epoch 00022: val_loss did not improve from 0.01385\n",
            "16/16 [==============================] - 1s 54ms/step - loss: 0.0203 - n_outputs0_loss: 0.0158 - n_outputs1_loss: 0.0045 - val_loss: 0.0148 - val_n_outputs0_loss: 0.0114 - val_n_outputs1_loss: 0.0033\n",
            "Epoch 23/100\n",
            "4/4 [==============================] - 0s 21ms/step - loss: 0.0177 - n_outputs0_loss: 0.0146 - n_outputs1_loss: 0.0031\n",
            "\n",
            "Epoch 00023: val_loss did not improve from 0.01385\n",
            "16/16 [==============================] - 1s 53ms/step - loss: 0.0192 - n_outputs0_loss: 0.0150 - n_outputs1_loss: 0.0043 - val_loss: 0.0177 - val_n_outputs0_loss: 0.0146 - val_n_outputs1_loss: 0.0031\n",
            "Epoch 24/100\n",
            "4/4 [==============================] - 0s 25ms/step - loss: 0.0119 - n_outputs0_loss: 0.0092 - n_outputs1_loss: 0.0027\n",
            "\n",
            "Epoch 00024: val_loss improved from 0.01385 to 0.01188, saving model to /content/mycar/models/mypilot.h5\n",
            "16/16 [==============================] - 1s 58ms/step - loss: 0.0194 - n_outputs0_loss: 0.0153 - n_outputs1_loss: 0.0041 - val_loss: 0.0119 - val_n_outputs0_loss: 0.0092 - val_n_outputs1_loss: 0.0027\n",
            "Epoch 25/100\n",
            "4/4 [==============================] - 0s 27ms/step - loss: 0.0188 - n_outputs0_loss: 0.0158 - n_outputs1_loss: 0.0030\n",
            "\n",
            "Epoch 00025: val_loss did not improve from 0.01188\n",
            "16/16 [==============================] - 1s 54ms/step - loss: 0.0184 - n_outputs0_loss: 0.0144 - n_outputs1_loss: 0.0041 - val_loss: 0.0188 - val_n_outputs0_loss: 0.0158 - val_n_outputs1_loss: 0.0030\n",
            "Epoch 26/100\n",
            "4/4 [==============================] - 0s 27ms/step - loss: 0.0119 - n_outputs0_loss: 0.0095 - n_outputs1_loss: 0.0024\n",
            "\n",
            "Epoch 00026: val_loss did not improve from 0.01188\n",
            "16/16 [==============================] - 1s 54ms/step - loss: 0.0201 - n_outputs0_loss: 0.0161 - n_outputs1_loss: 0.0040 - val_loss: 0.0119 - val_n_outputs0_loss: 0.0095 - val_n_outputs1_loss: 0.0024\n",
            "Epoch 27/100\n",
            "4/4 [==============================] - 0s 21ms/step - loss: 0.0144 - n_outputs0_loss: 0.0117 - n_outputs1_loss: 0.0027\n",
            "\n",
            "Epoch 00027: val_loss did not improve from 0.01188\n",
            "16/16 [==============================] - 1s 53ms/step - loss: 0.0171 - n_outputs0_loss: 0.0134 - n_outputs1_loss: 0.0038 - val_loss: 0.0144 - val_n_outputs0_loss: 0.0117 - val_n_outputs1_loss: 0.0027\n",
            "Epoch 28/100\n",
            "4/4 [==============================] - 0s 25ms/step - loss: 0.0114 - n_outputs0_loss: 0.0090 - n_outputs1_loss: 0.0024\n",
            "\n",
            "Epoch 00028: val_loss improved from 0.01188 to 0.01138, saving model to /content/mycar/models/mypilot.h5\n",
            "16/16 [==============================] - 1s 58ms/step - loss: 0.0165 - n_outputs0_loss: 0.0129 - n_outputs1_loss: 0.0036 - val_loss: 0.0114 - val_n_outputs0_loss: 0.0090 - val_n_outputs1_loss: 0.0024\n",
            "Epoch 29/100\n",
            "4/4 [==============================] - 0s 23ms/step - loss: 0.0109 - n_outputs0_loss: 0.0088 - n_outputs1_loss: 0.0021\n",
            "\n",
            "Epoch 00029: val_loss improved from 0.01138 to 0.01095, saving model to /content/mycar/models/mypilot.h5\n",
            "16/16 [==============================] - 1s 57ms/step - loss: 0.0165 - n_outputs0_loss: 0.0129 - n_outputs1_loss: 0.0035 - val_loss: 0.0109 - val_n_outputs0_loss: 0.0088 - val_n_outputs1_loss: 0.0021\n",
            "Epoch 30/100\n",
            "4/4 [==============================] - 0s 27ms/step - loss: 0.0098 - n_outputs0_loss: 0.0078 - n_outputs1_loss: 0.0020\n",
            "\n",
            "Epoch 00030: val_loss improved from 0.01095 to 0.00980, saving model to /content/mycar/models/mypilot.h5\n",
            "16/16 [==============================] - 1s 58ms/step - loss: 0.0158 - n_outputs0_loss: 0.0123 - n_outputs1_loss: 0.0035 - val_loss: 0.0098 - val_n_outputs0_loss: 0.0078 - val_n_outputs1_loss: 0.0020\n",
            "Epoch 31/100\n",
            "4/4 [==============================] - 0s 23ms/step - loss: 0.0133 - n_outputs0_loss: 0.0113 - n_outputs1_loss: 0.0020\n",
            "\n",
            "Epoch 00031: val_loss did not improve from 0.00980\n",
            "16/16 [==============================] - 1s 53ms/step - loss: 0.0153 - n_outputs0_loss: 0.0121 - n_outputs1_loss: 0.0032 - val_loss: 0.0133 - val_n_outputs0_loss: 0.0113 - val_n_outputs1_loss: 0.0020\n",
            "Epoch 32/100\n",
            "4/4 [==============================] - 0s 21ms/step - loss: 0.0105 - n_outputs0_loss: 0.0084 - n_outputs1_loss: 0.0021\n",
            "\n",
            "Epoch 00032: val_loss did not improve from 0.00980\n",
            "16/16 [==============================] - 1s 53ms/step - loss: 0.0162 - n_outputs0_loss: 0.0124 - n_outputs1_loss: 0.0038 - val_loss: 0.0105 - val_n_outputs0_loss: 0.0084 - val_n_outputs1_loss: 0.0021\n",
            "Epoch 33/100\n",
            "4/4 [==============================] - 0s 23ms/step - loss: 0.0107 - n_outputs0_loss: 0.0088 - n_outputs1_loss: 0.0019\n",
            "\n",
            "Epoch 00033: val_loss did not improve from 0.00980\n",
            "16/16 [==============================] - 1s 54ms/step - loss: 0.0143 - n_outputs0_loss: 0.0111 - n_outputs1_loss: 0.0032 - val_loss: 0.0107 - val_n_outputs0_loss: 0.0088 - val_n_outputs1_loss: 0.0019\n",
            "Epoch 34/100\n",
            "4/4 [==============================] - 0s 23ms/step - loss: 0.0108 - n_outputs0_loss: 0.0092 - n_outputs1_loss: 0.0016\n",
            "\n",
            "Epoch 00034: val_loss did not improve from 0.00980\n",
            "16/16 [==============================] - 1s 53ms/step - loss: 0.0141 - n_outputs0_loss: 0.0111 - n_outputs1_loss: 0.0030 - val_loss: 0.0108 - val_n_outputs0_loss: 0.0092 - val_n_outputs1_loss: 0.0016\n",
            "Epoch 35/100\n",
            "4/4 [==============================] - 0s 22ms/step - loss: 0.0098 - n_outputs0_loss: 0.0077 - n_outputs1_loss: 0.0021\n",
            "\n",
            "Epoch 00035: val_loss did not improve from 0.00980\n",
            "16/16 [==============================] - 1s 53ms/step - loss: 0.0147 - n_outputs0_loss: 0.0117 - n_outputs1_loss: 0.0030 - val_loss: 0.0098 - val_n_outputs0_loss: 0.0077 - val_n_outputs1_loss: 0.0021\n",
            "Epoch 00035: early stopping\n",
            "Training completed in 0:00:38.\n",
            "\n",
            "\n",
            "----------- Best Eval Loss :0.009804 ---------\n",
            "<Figure size 640x480 with 1 Axes>\n"
          ],
          "name": "stdout"
        }
      ]
    },
    {
      "cell_type": "markdown",
      "metadata": {
        "id": "rXzn1noJz5MQ"
      },
      "source": [
        "Check if the model is generated\n",
        "\n"
      ]
    },
    {
      "cell_type": "code",
      "metadata": {
        "id": "5b9vJV4EzlO8",
        "outputId": "b193dd07-8b59-4bdf-db37-8b8cd3509e8f",
        "colab": {
          "base_uri": "https://localhost:8080/",
          "height": 127
        }
      },
      "source": [
        "!ls -alh /content/mycar/models"
      ],
      "execution_count": 11,
      "outputs": [
        {
          "output_type": "stream",
          "text": [
            "total 9.5M\n",
            "drwxr-xr-x 2 root root 4.0K Oct  2 08:24 .\n",
            "drwxr-xr-x 6 root root 4.0K Oct  2 08:24 ..\n",
            "-rw-r--r-- 1 root root 9.5M Oct  2 08:24 mypilot.h5\n",
            "-rw-r--r-- 1 root root  24K Oct  2 08:20 mypilot.h5_loss_acc_0.009315.png\n",
            "-rw-r--r-- 1 root root  26K Oct  2 08:24 mypilot.h5_loss_acc_0.009804.png\n"
          ],
          "name": "stdout"
        }
      ]
    },
    {
      "cell_type": "markdown",
      "metadata": {
        "id": "VLh-W4DqhpyR"
      },
      "source": [
        "Plot the model loss graph."
      ]
    },
    {
      "cell_type": "code",
      "metadata": {
        "id": "AixQrFy_z3vv",
        "outputId": "fbd09f73-33e2-467c-8623-6934762989d1",
        "colab": {
          "base_uri": "https://localhost:8080/",
          "height": 515
        }
      },
      "source": [
        "%cd /content/mycar/models\n",
        "\n",
        "import glob\n",
        "file = glob.glob(\"*.png\")\n",
        "  \n",
        "from IPython.display import Image\n",
        "Image(file[0])"
      ],
      "execution_count": 12,
      "outputs": [
        {
          "output_type": "stream",
          "text": [
            "/content/mycar/models\n"
          ],
          "name": "stdout"
        },
        {
          "output_type": "execute_result",
          "data": {
            "image/png": "[encoded data removed]",
            "text/plain": [
              "<IPython.core.display.Image object>"
            ]
          },
          "metadata": {
            "tags": []
          },
          "execution_count": 12
        }
      ]
    },
    {
      "cell_type": "markdown",
      "metadata": {
        "id": "6BEOJYH601O0"
      },
      "source": [
        "## Download the trained model\n",
        "\n",
        "Once the training is complete on colab, download the model file under /content/mycar/models/ folder location."
      ]
    },
    {
      "cell_type": "code",
      "metadata": {
        "id": "YtvyJpOdocjb",
        "outputId": "2f8b658b-0dbf-43fd-bddf-a7e8ed4abd23",
        "colab": {
          "base_uri": "https://localhost:8080/",
          "height": 17
        }
      },
      "source": [
        "from google.colab import files\n",
        "\n",
        "files.download('/content/mycar/models/mypilot.h5')"
      ],
      "execution_count": 13,
      "outputs": [
        {
          "output_type": "display_data",
          "data": {
            "application/javascript": [
              "\n",
              "    async function download(id, filename, size) {\n",
              "      if (!google.colab.kernel.accessAllowed) {\n",
              "        return;\n",
              "      }\n",
              "      const div = document.createElement('div');\n",
              "      const label = document.createElement('label');\n",
              "      label.textContent = `Downloading \"${filename}\": `;\n",
              "      div.appendChild(label);\n",
              "      const progress = document.createElement('progress');\n",
              "      progress.max = size;\n",
              "      div.appendChild(progress);\n",
              "      document.body.appendChild(div);\n",
              "\n",
              "      const buffers = [];\n",
              "      let downloaded = 0;\n",
              "\n",
              "      const channel = await google.colab.kernel.comms.open(id);\n",
              "      // Send a message to notify the kernel that we're ready.\n",
              "      channel.send({})\n",
              "\n",
              "      for await (const message of channel.messages) {\n",
              "        // Send a message to notify the kernel that we're ready.\n",
              "        channel.send({})\n",
              "        if (message.buffers) {\n",
              "          for (const buffer of message.buffers) {\n",
              "            buffers.push(buffer);\n",
              "            downloaded += buffer.byteLength;\n",
              "            progress.value = downloaded;\n",
              "          }\n",
              "        }\n",
              "      }\n",
              "      const blob = new Blob(buffers, {type: 'application/binary'});\n",
              "      const a = document.createElement('a');\n",
              "      a.href = window.URL.createObjectURL(blob);\n",
              "      a.download = filename;\n",
              "      div.appendChild(a);\n",
              "      a.click();\n",
              "      div.remove();\n",
              "    }\n",
              "  "
            ],
            "text/plain": [
              "<IPython.core.display.Javascript object>"
            ]
          },
          "metadata": {
            "tags": []
          }
        },
        {
          "output_type": "display_data",
          "data": {
            "application/javascript": [
              "download(\"download_5062d196-3df9-475e-a0cf-6cf11701cc84\", \"mypilot.h5\", 9876808)"
            ],
            "text/plain": [
              "<IPython.core.display.Javascript object>"
            ]
          },
          "metadata": {
            "tags": []
          }
        }
      ]
    },
    {
      "cell_type": "markdown",
      "metadata": {
        "id": "i7AIY6yBOCM-"
      },
      "source": [
        "Alternatively, you can copy the model back to Google Drive too"
      ]
    },
    {
      "cell_type": "code",
      "metadata": {
        "id": "7Dim4fCpOBo9"
      },
      "source": [
        "!cp /content/mycar/models/mypilot.h5 /content/drive/\"My Drive\"/Colab/models/mypilot.h5"
      ],
      "execution_count": 39,
      "outputs": []
    },
    {
      "cell_type": "markdown",
      "metadata": {
        "id": "3IZgEPLNEezI"
      },
      "source": [
        "## Create a car on your PC\n",
        "\n",
        "```bash\n",
        "cd ~/projects\n",
        "conda activate donkey\n",
        "donkey createcar --path ./mycar\n",
        "```\n",
        "\n",
        "Edit `myconfig.py`\n",
        "\n",
        "```\n",
        "CAMERA_TYPE = \"PICAM\"\n",
        "...\n",
        "DONKEY_GYM = True\n",
        "DONKEY_SIM_PATH = r\"path/to/donkey_sim.exe\"\n",
        "DONKEY_GYM_ENV_NAME = \"donkey-generated-track-v0\"\n",
        "```\n",
        "\n",
        "Copy `mypilot.h5` into `~/projects/mycar/models/`.\n",
        "\n",
        "```\n",
        "python manage.py drive --model models/mypilot.h5\n",
        "```"
      ]
    }
  ]
}